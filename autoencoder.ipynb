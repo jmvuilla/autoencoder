{
 "cells": [
  {
   "cell_type": "code",
   "execution_count": 1,
   "metadata": {},
   "outputs": [
    {
     "name": "stdout",
     "output_type": "stream",
     "text": [
      "INFO> TensorFlow version: 1.15.0\n",
      "INFO> Num GPUs Available:  2\n"
     ]
    }
   ],
   "source": [
    "import tensorflow\n",
    "import matplotlib.pyplot\n",
    "import numpy\n",
    "import IPython\n",
    "\n",
    "print(\"INFO> TensorFlow version: %s\" % tensorflow.__version__)\n",
    "print(\"INFO> Num GPUs Available: \", len(tensorflow.config.experimental.list_physical_devices('GPU')))"
   ]
  },
  {
   "cell_type": "code",
   "execution_count": 2,
   "metadata": {},
   "outputs": [],
   "source": [
    "# Key parameters\n",
    "\n",
    "# Size of the vector holding the information after compression (encoding)\n",
    "latentSize = 32\n",
    "\n",
    "# Image size\n",
    "imageHeight = 28\n",
    "imageWidth  = 28\n",
    "\n",
    "nEpochs = 60"
   ]
  },
  {
   "cell_type": "code",
   "execution_count": 3,
   "metadata": {},
   "outputs": [
    {
     "data": {
      "image/png": "[encoded data removed]",
      "text/plain": [
       "<Figure size 432x288 with 1 Axes>"
      ]
     },
     "metadata": {
      "needs_background": "light"
     },
     "output_type": "display_data"
    },
    {
     "name": "stdout",
     "output_type": "stream",
     "text": [
      "Class of training image #5555 is 7\n"
     ]
    }
   ],
   "source": [
    "# Load MNIST dataset\n",
    "(xTrn, yTrn), (xTst, yTst) = tensorflow.keras.datasets.mnist.load_data()\n",
    "\n",
    "# Scale all training & test images\n",
    "xTrn = xTrn / 255.0\n",
    "xTst = xTst / 255.0\n",
    "\n",
    "# Verify one image from the training set\n",
    "myImageIndex = 5555\n",
    "matplotlib.pyplot.imshow(xTrn[myImageIndex], cmap=\"gray\")\n",
    "matplotlib.pyplot.show()\n",
    "print(f\"Class of training image #{myImageIndex} is {yTrn[myImageIndex]}\")"
   ]
  },
  {
   "cell_type": "code",
   "execution_count": 4,
   "metadata": {},
   "outputs": [
    {
     "name": "stdout",
     "output_type": "stream",
     "text": [
      "WARNING:tensorflow:From /home/jmv/data/tensorflow1.15_gpu/lib/python3.6/site-packages/tensorflow_core/python/ops/resource_variable_ops.py:1630: calling BaseResourceVariable.__init__ (from tensorflow.python.ops.resource_variable_ops) with constraint is deprecated and will be removed in a future version.\n",
      "Instructions for updating:\n",
      "If using Keras pass *_constraint arguments to layers.\n"
     ]
    }
   ],
   "source": [
    "# Encoder description\n",
    "myModelInput = tensorflow.keras.layers.Input(shape=(imageHeight,imageWidth))\n",
    "x = tensorflow.keras.layers.Flatten()(myModelInput)\n",
    "x = tensorflow.keras.layers.Dense(512)(x)\n",
    "x = tensorflow.keras.layers.LeakyReLU()(x)\n",
    "x = tensorflow.keras.layers.Dropout(0.5)(x) \n",
    "x = tensorflow.keras.layers.Dense(256)(x)\n",
    "x = tensorflow.keras.layers.LeakyReLU()(x)\n",
    "x = tensorflow.keras.layers.Dropout(0.5)(x) \n",
    "x = tensorflow.keras.layers.Dense(128)(x)\n",
    "x = tensorflow.keras.layers.LeakyReLU()(x)\n",
    "x = tensorflow.keras.layers.Dropout(0.5)(x) \n",
    "x = tensorflow.keras.layers.Dense(64)(x)\n",
    "x = tensorflow.keras.layers.LeakyReLU()(x)\n",
    "x = tensorflow.keras.layers.Dropout(0.5)(x) \n",
    "x = tensorflow.keras.layers.Dense(latentSize)(x)\n",
    "latentVector = tensorflow.keras.layers.LeakyReLU()(x) \n",
    "\n",
    "# Decoder description\n",
    "x = tensorflow.keras.layers.Dense(64)(latentVector)\n",
    "x = tensorflow.keras.layers.LeakyReLU()(x)\n",
    "x = tensorflow.keras.layers.Dropout(0.5)(x) \n",
    "x = tensorflow.keras.layers.Dense(256)(x)\n",
    "x = tensorflow.keras.layers.LeakyReLU()(x)\n",
    "x = tensorflow.keras.layers.Dropout(0.5)(x) \n",
    "x = tensorflow.keras.layers.Dense(512)(x)\n",
    "x = tensorflow.keras.layers.LeakyReLU()(x)\n",
    "x = tensorflow.keras.layers.Dropout(0.5)(x) \n",
    "x = tensorflow.keras.layers.Dense(784, activation=\"sigmoid\")(x)\n",
    "myModelOutput = tensorflow.keras.layers.Reshape(target_shape=(imageHeight,imageWidth))(x) \n",
    "\n",
    "# Model creation\n",
    "myModel = tensorflow.keras.models.Model(inputs=myModelInput, outputs=myModelOutput)\n",
    "myModel.compile(optimizer=\"nadam\",loss=\"binary_crossentropy\")"
   ]
  },
  {
   "cell_type": "code",
   "execution_count": null,
   "metadata": {},
   "outputs": [],
   "source": [
    "# Training section\n",
    "for epoch in range(nEpochs):\n",
    "    fig, axs = matplotlib.pyplot.subplots(8, 8)\n",
    "    rand = xTst[numpy.random.randint(0, 10000, 64)].reshape((8, 8, 1, 28, 28))\n",
    "    \n",
    "    IPython.display.clear_output() # If you imported display from IPython\n",
    "    \n",
    "    for i in range(8):\n",
    "        for j in range(8):\n",
    "            axs[i, j].imshow(myModel.predict(rand[i, j])[0], cmap = \"gray\")\n",
    "            axs[i, j].axis(\"off\")\n",
    "    \n",
    "    matplotlib.pyplot.subplots_adjust(wspace = 0, hspace = 0)\n",
    "    matplotlib.pyplot.show()\n",
    "    print(\"-----------\", \"EPOCH\", epoch, \"-----------\")\n",
    "    myModel.fit(xTrn, xTrn)"
   ]
  },
  {
   "cell_type": "code",
   "execution_count": null,
   "metadata": {},
   "outputs": [],
   "source": []
  },
  {
   "cell_type": "code",
   "execution_count": null,
   "metadata": {},
   "outputs": [],
   "source": []
  }
 ],
 "metadata": {
  "kernelspec": {
   "display_name": "Python 3",
   "language": "python",
   "name": "python3"
  },
  "language_info": {
   "codemirror_mode": {
    "name": "ipython",
    "version": 3
   },
   "file_extension": ".py",
   "mimetype": "text/x-python",
   "name": "python",
   "nbconvert_exporter": "python",
   "pygments_lexer": "ipython3",
   "version": "3.6.9"
  }
 },
 "nbformat": 4,
 "nbformat_minor": 4
}
